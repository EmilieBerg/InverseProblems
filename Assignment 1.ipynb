{
 "cells": [
  {
   "cell_type": "markdown",
   "metadata": {},
   "source": [
    "# Assignment 1 - Inverse Problems"
   ]
  },
  {
   "cell_type": "code",
   "execution_count": 1,
   "metadata": {},
   "outputs": [],
   "source": [
    "# import relevant libraries\n",
    "import numpy as np\n",
    "import matplotlib.pyplot as plt"
   ]
  },
  {
   "cell_type": "markdown",
   "metadata": {},
   "source": [
    "### Question 1 and 2"
   ]
  },
  {
   "cell_type": "markdown",
   "metadata": {},
   "source": [
    "In order to calculate the arrival-time anomalies, I start by discretizing the space. I have done this by defining a 13x11 matrix where each entry corresponds to a 1x1 m square. I have set the entries corresponding to the space outside the grey box equal to zero, and the grey box is indicated by ones in the entries."
   ]
  },
  {
   "cell_type": "code",
   "execution_count": 2,
   "metadata": {},
   "outputs": [
    {
     "name": "stdout",
     "output_type": "stream",
     "text": [
      "[[0. 0. 0. 0. 0. 0. 0. 0. 0. 0. 0. 0. 0.]\n",
      " [0. 0. 0. 0. 1. 1. 1. 0. 0. 0. 0. 0. 0.]\n",
      " [0. 0. 0. 0. 1. 1. 1. 0. 0. 0. 0. 0. 0.]\n",
      " [0. 0. 0. 0. 1. 1. 1. 0. 0. 0. 0. 0. 0.]\n",
      " [0. 0. 0. 0. 1. 1. 1. 0. 0. 0. 0. 0. 0.]\n",
      " [0. 0. 0. 0. 1. 1. 1. 0. 0. 0. 0. 0. 0.]\n",
      " [0. 0. 0. 0. 1. 1. 1. 0. 0. 0. 0. 0. 0.]\n",
      " [0. 0. 0. 0. 1. 1. 1. 0. 0. 0. 0. 0. 0.]\n",
      " [0. 0. 0. 0. 1. 1. 1. 0. 0. 0. 0. 0. 0.]\n",
      " [0. 0. 0. 0. 0. 0. 0. 0. 0. 0. 0. 0. 0.]\n",
      " [0. 0. 0. 0. 0. 0. 0. 0. 0. 0. 0. 0. 0.]]\n"
     ]
    },
    {
     "data": {
      "image/png": "[encoded data removed]",
      "text/plain": [
       "<Figure size 640x480 with 1 Axes>"
      ]
     },
     "metadata": {},
     "output_type": "display_data"
    }
   ],
   "source": [
    "v = 5  # wave propagation velocity OUTSIDE grey box\n",
    "v_box = 5.2  # wave propagation velocity INSIDE the grey box\n",
    "\n",
    "# geometry of the system\n",
    "X = 13  # the system is 13 m along the x-axis\n",
    "Z = 11  # and 11 m along the z-axis\n",
    "\n",
    "T = 22  # number of rays detected\n",
    "\n",
    "# the space is distretized into 13 x 11 squares of area 1 m^2\n",
    "area = np.zeros([Z, X])  # zeros correspond to the area outside the grey box\n",
    "area[1:9, 4:7] = 1  # ones correspond to the grey box\n",
    "\n",
    "print(area)  # print the matrix corresponding to the area\n",
    "plt.imshow(area);  # show the area with a contour plot\n",
    "plt.axis(\"off\");\n"
   ]
  },
  {
   "cell_type": "markdown",
   "metadata": {},
   "source": [
    "Next, I define functions in order to calculate arrival-time anomalies for each of the 22 rays. The first function computes the path that a particular ray takes through the space.\n",
    "\n",
    "This first function is incorporated in the second function which computes the arrival time anomalis for the rays. The function is given a number of start-coordinates of rays, and for each individual ray, the path is computed. Then, for every square inside the grey box which the particular ray passes through, the value $(\\frac{1}{v} - \\frac{1}{v_{box}}) \\sqrt{2}$ is added to the arrival-time anomaly for that particular ray. This is because the arrival time anomaly is in general given by:\n",
    "\n",
    "$$t = \\int s(u) du$$\n",
    "\n",
    "For the distretized space, this is equivalent to:\n",
    "\n",
    "$$t = \\Sigma s(u) \\Delta u$$\n",
    "\n",
    "But the slowness anomaly, $s(u)$ is only non-zero when the ray is inside the grey box where it is given by:\n",
    "\n",
    "$$s_{box} = \\frac{1}{v} - \\frac{1}{v_{box}}$$\n",
    "\n",
    "Since the rays move diagonally and the distance between the two opposite corners of a 1x1 m square is equal to $\\sqrt{2}$ m, this leaves me to conclude that the arrival time anomaly for a ray is given by $(\\frac{1}{v} - \\frac{1}{v_{box}}) \\sqrt{2}$ times the number of 1x1 m squares of grey box that the particular ray passes through."
   ]
  },
  {
   "cell_type": "code",
   "execution_count": 3,
   "metadata": {},
   "outputs": [],
   "source": [
    "# I define a function which computes the path through the area of each of the rays\n",
    "\n",
    "def ray_path(initial_coord, T=T, Z=Z, X=X):\n",
    "    \"\"\"This function takes the initial coordinates of a ray and returns an array which contains the path of the ray through the area.\"\"\"\n",
    "\n",
    "    path = np.zeros((Z, X))  # initialize array for ray path\n",
    "    coord = np.copy(initial_coord)  # initialize the coordinates where the ray currently is\n",
    "\n",
    "    if coord[1] < 6:  # check if the ray comes from the left (source 1)\n",
    "        while coord[0] >= 0 and coord[1] <=12:  # only loop while the ray is still inside the area\n",
    "            z, x = coord  # define current z- and x-coordinates of the ray\n",
    "            path[z, x] = 1  # set the entry of the path array corresponding to the current position of the ray equal to 1\n",
    "                \n",
    "            # take a step to the next position of the ray \n",
    "            coord[0] -= 1\n",
    "            coord[1] += 1\n",
    "\n",
    "    elif coord[1] > 6:  # check if the ray comes from the right (source 2)\n",
    "        while coord[0] >= 0 and coord[1] <=12:  # only loop while the ray is still inside the area\n",
    "            z, x = coord  # define current z- and x-coordinates of the ray\n",
    "            path[z, x] = 1  # set the entry of G_i corresponding to the current position of the ray equal to 1\n",
    "\n",
    "            # take a step to the next position of the ray\n",
    "            coord[0] -= 1\n",
    "            coord[1] -= 1\n",
    "        \n",
    "    return path\n",
    "\n",
    "\n",
    "# I define a function to calculate the arrival time anomalis\n",
    "\n",
    "def arrival_time_anomali(start_coord, T=T, area=area, v=v, v_box=v_box):\n",
    "    \"\"\"This function takes an array of start coordinates for rays and returns an array of arrival time anomalis for these rays.\"\"\"\n",
    "\n",
    "    t_gamma = np.zeros(T)  # initialize array of arrival time anomalis\n",
    "    \n",
    "    for i in range(T):  # loop over all rays\n",
    "        path_i = ray_path(start_coord[i])  # calculate ray path for current ray\n",
    "        # loop over the entire area\n",
    "        for j in range(Z):\n",
    "            for k in range(X):\n",
    "                if path_i[j, k] == 1 and area[j, k] == 1:  # if the ray is in a square inside the grey box, add the below to the arrival time anomali for the current ray\n",
    "                    t_gamma[i] += (1/v - 1/v_box) * np.sqrt(2)  # arrival time anomali through a single square of 1 m2 in the grey box\n",
    "    \n",
    "    return t_gamma\n",
    "            "
   ]
  },
  {
   "cell_type": "markdown",
   "metadata": {},
   "source": [
    "Now I define the start coordinates of each of the 22 rays."
   ]
  },
  {
   "cell_type": "code",
   "execution_count": 4,
   "metadata": {},
   "outputs": [],
   "source": [
    "# start coordinates for the rays coming from source 1\n",
    "start_coord1 = np.array([[1, 0], [2, 0], [3, 0], [4, 0], [5, 0], [6, 0], [7, 0], [8, 0], [9, 0], [10, 0], [10, 1]])  #z,x\n",
    "\n",
    "# start coordinates for the rays coming from source 2\n",
    "start_coord2 = np.array([[1, 12], [2, 12], [3, 12], [4, 12], [5, 12], [6, 12], [7, 12], [8, 12], [9, 12], [10, 12], [10, 11]])  #z,x\n",
    "\n",
    "# combine the two arrays\n",
    "start_coord = np.append(start_coord1, start_coord2, axis=0)"
   ]
  },
  {
   "cell_type": "markdown",
   "metadata": {},
   "source": [
    "And then I use my function to compute the arrival-time anomalies of these rays. I also print the results to make sure that they look reasonable which they do."
   ]
  },
  {
   "cell_type": "code",
   "execution_count": 5,
   "metadata": {},
   "outputs": [
    {
     "name": "stdout",
     "output_type": "stream",
     "text": [
      "The calculated arrival time anomalies are: \n",
      "\n",
      "0.0000 seconds, corresponding to 0 squares of grey box\n",
      "0.0000 seconds, corresponding to 0 squares of grey box\n",
      "0.0000 seconds, corresponding to 0 squares of grey box\n",
      "0.0000 seconds, corresponding to 0 squares of grey box\n",
      "0.0109 seconds, corresponding to 1 squares of grey box\n",
      "0.0218 seconds, corresponding to 2 squares of grey box\n",
      "0.0326 seconds, corresponding to 3 squares of grey box\n",
      "0.0326 seconds, corresponding to 3 squares of grey box\n",
      "0.0326 seconds, corresponding to 3 squares of grey box\n",
      "0.0326 seconds, corresponding to 3 squares of grey box\n",
      "0.0326 seconds, corresponding to 3 squares of grey box\n",
      "0.0000 seconds, corresponding to 0 squares of grey box\n",
      "0.0000 seconds, corresponding to 0 squares of grey box\n",
      "0.0000 seconds, corresponding to 0 squares of grey box\n",
      "0.0000 seconds, corresponding to 0 squares of grey box\n",
      "0.0000 seconds, corresponding to 0 squares of grey box\n",
      "0.0000 seconds, corresponding to 0 squares of grey box\n",
      "0.0109 seconds, corresponding to 1 squares of grey box\n",
      "0.0218 seconds, corresponding to 2 squares of grey box\n",
      "0.0326 seconds, corresponding to 3 squares of grey box\n",
      "0.0326 seconds, corresponding to 3 squares of grey box\n",
      "0.0326 seconds, corresponding to 3 squares of grey box\n"
     ]
    }
   ],
   "source": [
    "t_gamma = arrival_time_anomali(start_coord)  # calculate arrival time anomalies\n",
    "\n",
    "print(\"The calculated arrival time anomalies are: \\n\")\n",
    "for t in t_gamma:\n",
    "     print(f\"{t:5.4f} seconds, corresponding to {t*1/np.sqrt(2)*(1/5-1/5.2)**(-1):1.0f} squares of grey box\")\n"
   ]
  },
  {
   "cell_type": "markdown",
   "metadata": {},
   "source": [
    "### Question 3"
   ]
  },
  {
   "cell_type": "markdown",
   "metadata": {},
   "source": [
    "I start by computing the Gaussian noise which I am going to add to the data computed above."
   ]
  },
  {
   "cell_type": "code",
   "execution_count": 6,
   "metadata": {},
   "outputs": [
    {
     "name": "stdout",
     "output_type": "stream",
     "text": [
      "The noise has been normalized to have the norm 0.005473.\n",
      "As expected, this corresponds to 1/18 norm(t_pure) = 0.005473. \n",
      "\n",
      "The noise has the uncertianty sigma = 0.001165.\n"
     ]
    }
   ],
   "source": [
    "t_pure = t_gamma  # the data without noise is the calculated arrival-time anomalies\n",
    "\n",
    "np.random.seed(10)\n",
    "n = np.random.normal(loc=0.0, scale=1.0, size=T)  # calculate Gaussian noise with mean 0\n",
    "n_normalized = 1/18*np.linalg.norm(t_pure) / np.linalg.norm(n) * n  # normalize noise\n",
    "\n",
    "print(f\"The noise has been normalized to have the norm {np.linalg.norm(n_normalized):7.6f}.\")\n",
    "print(f\"As expected, this corresponds to 1/18 norm(t_pure) = {1/18*np.linalg.norm(t_pure):7.6f}. \\n\")\n",
    "\n",
    "sigma = np.std(n_normalized)  # I calculate the standard deviation of the distribution of noise\n",
    "print(f\"The noise has the uncertianty sigma = {sigma:7.6f}.\")"
   ]
  },
  {
   "cell_type": "code",
   "execution_count": 7,
   "metadata": {},
   "outputs": [],
   "source": [
    "t_obs = t_pure + n_normalized  # compute the \"observed\" data with noise"
   ]
  },
  {
   "cell_type": "markdown",
   "metadata": {},
   "source": [
    "I am now going to formulate the inverse problem so that it has the form:\n",
    "\n",
    "$$d = G m$$\n",
    "\n",
    "The data, $d$, is the computed arrival-time anomalies with noise. The model, $m$, is the slowness anomaly values in the discretized area. Hence, I might as well write:\n",
    "\n",
    "$$t_{obs} = G s$$\n",
    "\n",
    "And this needs to reproduce the discretized equation:\n",
    "\n",
    "$$t = \\Sigma s(u) \\Delta u$$\n",
    "\n",
    "Hence, I need to define my matrix $G$ such that a row in $G$ corresponds to the path of a particular ray normalized to the length that a ray travels over a single square of 1 $m^2$. This means that the entries in $G$ should be equal to $\\sqrt{2}$ for the entries that correspond to squares of 1 $m^2$ that the ray travels across and zero for all other entries. In this way, the sum over a row in $G$ will correspond to the number of meters that a particular ray travels in total.\n",
    "\n",
    "I define a function to compute $G$ according to this definition."
   ]
  },
  {
   "cell_type": "code",
   "execution_count": 8,
   "metadata": {},
   "outputs": [],
   "source": [
    "# I define a function to compute the matrix G of the inverse problem\n",
    "\n",
    "def G_matrix(start_coord):\n",
    "    \"\"\"This function takes an array of start coordinates of the rays and returns the matrix G of the inverse problem.\"\"\"\n",
    "\n",
    "    G = np.zeros((T, X*Z))  # initialize G matrix\n",
    "\n",
    "    for i in range(T):  # loop over all the rays\n",
    "        G_i = ray_path(start_coord[i])  # calculate the path of the current ray\n",
    "        G[i,:] = np.ndarray.flatten(G_i)  # set G_i as the i'th row in the G matrix\n",
    "\n",
    "    G = np.sqrt(2) * G  # normalize G so that the sum over a row corresponds to the distance travled by a ray\n",
    "\n",
    "    return G"
   ]
  },
  {
   "cell_type": "markdown",
   "metadata": {},
   "source": [
    "And then I compute $G$ for the particular rays of this problem."
   ]
  },
  {
   "cell_type": "code",
   "execution_count": 9,
   "metadata": {},
   "outputs": [],
   "source": [
    "G = G_matrix(start_coord)"
   ]
  },
  {
   "cell_type": "markdown",
   "metadata": {},
   "source": [
    "### Problem 4"
   ]
  },
  {
   "cell_type": "markdown",
   "metadata": {},
   "source": [
    "In general, an inverse problem can be formulated as:\n",
    "\n",
    "$$d = g(m)$$\n",
    "\n",
    "Here, $d$ is the data, $m$ is the model which one wishes to solve for, and $g$ is some (possibly non-linear) function relating the model to the data.\n",
    "\n",
    "This problem is clearly linear since the relation between the model and data is a matrix equation:\n",
    "\n",
    "$$d = G m$$\n",
    "\n",
    "Seen another way, the fact that the problem can be stated as a matrix equation means that the problem can also be formulated in terms of a number of linear equations (in this case 22 corresponding to the number of rows in $G$) between the model and data."
   ]
  },
  {
   "cell_type": "markdown",
   "metadata": {},
   "source": [
    "### Problem 5"
   ]
  },
  {
   "cell_type": "markdown",
   "metadata": {},
   "source": [
    "The matrix $G$ has $22$ rows and $13 \\times 11 = 143$ columns. This means that there are 22 equations but 143 unknowns that we wish to solve for. So the problem is highly underdetermined, meaning that there are more unknowns than equations.\n",
    "\n",
    "Since the problem is underdetermined, there is no unique solution to the problem."
   ]
  },
  {
   "cell_type": "markdown",
   "metadata": {},
   "source": [
    "### Problem 6"
   ]
  },
  {
   "cell_type": "markdown",
   "metadata": {},
   "source": [
    "I am now going to solve for the slowness anomaly values using Tikhonov Regularization. First, I define a function to perform the Tikhonov Regularization."
   ]
  },
  {
   "cell_type": "code",
   "execution_count": 10,
   "metadata": {},
   "outputs": [],
   "source": [
    "# I define a function to compute the solution to the inverse problem\n",
    "\n",
    "def Tikhonov_Regularization(G, t, epsilon, Z=Z, X=X):\n",
    "    \"\"\"This function utilized Tikhonov Regularization to compute the solution to the linear inverse problem. That is, the function takes the matrix G and data t and computes the model m.\"\"\"\n",
    "    s_estimate = np.linalg.inv(np.matmul(G.T, G) + epsilon**2 * np.identity(Z*X)) @ G.T @ t  # Perform Tikhonov Regularization\n",
    "    return s_estimate"
   ]
  },
  {
   "cell_type": "markdown",
   "metadata": {},
   "source": [
    "Then I compute the solution. I want to compute a solution which \"barely fits the data within the noise\". This means that I want to pick a value for $\\epsilon$ for which:\n",
    "\n",
    "$$d_{obs} - G m_{model} \\approx N \\sigma^2$$\n",
    "\n",
    "Where $N$ is the number of data points and $\\sigma$ is the uncertainty on the data points (which is the standard deviation of the noise). A good value for $\\epsilon$ to achieve this turns out to be $\\epsilon = 0.9$.\n",
    "\n",
    "I also visualize the result. Since the slowness anomaly has the constant value $s_{box} = \\frac{1}{v} - \\frac{1}{v_{box}}$ inside the grey box and is zero outside it, I expect the model to have the constant value $s_{box}$ in the coordinates where the grey box is located and to be zero outside it. I also visualize the \"real\" location of the grey box for comparison. Furthermore, I have computed the numerical value of $s_{box}$ as well for comparison.\n",
    "\n",
    "I discuss the results in the answer to question 8."
   ]
  },
  {
   "cell_type": "code",
   "execution_count": 11,
   "metadata": {},
   "outputs": [
    {
     "name": "stdout",
     "output_type": "stream",
     "text": [
      "d_obs - G m_model = 1.3389497852333337e-05\n",
      "N sigma^2 = 2.9834561708176062e-05\n",
      "\n",
      "s_box = 0.00769\n"
     ]
    },
    {
     "data": {
      "image/png": "[encoded data removed]",
      "text/plain": [
       "<Figure size 640x480 with 2 Axes>"
      ]
     },
     "metadata": {},
     "output_type": "display_data"
    },
    {
     "data": {
      "image/png": "[encoded data removed]",
      "text/plain": [
       "<Figure size 640x480 with 1 Axes>"
      ]
     },
     "metadata": {},
     "output_type": "display_data"
    }
   ],
   "source": [
    "s_estimate = Tikhonov_Regularization(G, t_obs, epsilon=0.9)  # Compute model\n",
    "\n",
    "s_est = s_estimate.reshape(Z, X)  # Reshape model\n",
    "\n",
    "# This is used to determine the value of epsilon such that the model \"barely fits the data within the noise\"\n",
    "print(f\"d_obs - G m_model = {np.linalg.norm(t_obs - G @ s_estimate)**2}\")\n",
    "print(f\"N sigma^2 = {len(t_obs) * sigma**2}\\n\")\n",
    "\n",
    "# Plot the estimated model\n",
    "plt.imshow(s_est);\n",
    "plt.axis(\"off\");\n",
    "plt.colorbar();\n",
    "plt.title(\"Estimated slowness anomaly model\");\n",
    "\n",
    "plt.figure();\n",
    "plt.imshow(area);\n",
    "plt.axis(\"off\");\n",
    "plt.title(\"Exact location of the grey box\")\n",
    "\n",
    "s_box = 1/v - 1/v_box\n",
    "print(f\"s_box = {s_box:.3}\")"
   ]
  },
  {
   "cell_type": "markdown",
   "metadata": {},
   "source": [
    "### Problem 7"
   ]
  },
  {
   "cell_type": "markdown",
   "metadata": {},
   "source": [
    "Next, I want to describe how well the model is resolved by the inverse operator. I will do this by plotting how a delta-function (without noise) consisting of a single non-zero square of 1 $m^2$ in the area is reconstructed.\n",
    "\n",
    "The inverse operator will give me an estimated model of the slowness anomaly $s$ from the delta-function. Therefore, to get a model for the delta-function directly instead, I divide the estimated model by $s_{box}$ which is the theoretical value of the slowness anomaly.\n",
    "\n",
    "Furthermore, since there is no noise on the delta-function, I have chosen an $\\epsilon$ that minimizes the difference between the \"real\" data and the reconstructed data."
   ]
  },
  {
   "cell_type": "code",
   "execution_count": 12,
   "metadata": {},
   "outputs": [
    {
     "name": "stdout",
     "output_type": "stream",
     "text": [
      "d_delta_function - G m_model = 6.347393887788967e-19 \n",
      "\n",
      "The value at the location of the delta function in the true model is 1.0000.\n",
      "The value at the location of the delta function in the estimated model is 0.1821.\n"
     ]
    },
    {
     "data": {
      "image/png": "[encoded data removed]",
      "text/plain": [
       "<Figure size 640x480 with 2 Axes>"
      ]
     },
     "metadata": {},
     "output_type": "display_data"
    },
    {
     "data": {
      "image/png": "[encoded data removed]",
      "text/plain": [
       "<Figure size 640x480 with 2 Axes>"
      ]
     },
     "metadata": {},
     "output_type": "display_data"
    }
   ],
   "source": [
    "# Here I compute how the estimated model reconstructs a delta function\n",
    "\n",
    "delta_function = np.zeros((Z, X))  # initialize the area\n",
    "delta_function[5,6] = 1  # create a single sqaure with value 1 (delta function)\n",
    "\n",
    "t_delta_func = arrival_time_anomali(start_coord, area=delta_function)  # compute exact arrival time anomalis for the delta function\n",
    "\n",
    "# compute the estimated model of the delta function\n",
    "s_estimate_delta_func = Tikhonov_Regularization(G, t_delta_func, epsilon=0.001)\n",
    "\n",
    "# I reshape and divide by s_box to get a model of the delta-function directly instead of the slowness anomaly of the delta-function\n",
    "est_delta_func = s_estimate_delta_func.reshape(Z, X) / s_box \n",
    "\n",
    "# plot the delta function\n",
    "plt.imshow(delta_function);\n",
    "plt.colorbar();\n",
    "plt.axis(\"off\");\n",
    "plt.title(\"Real delta-function\")\n",
    "\n",
    "# plot the model's reconstruction of the delta function\n",
    "plt.figure();\n",
    "plt.imshow(est_delta_func);\n",
    "plt.colorbar();\n",
    "plt.axis(\"off\");\n",
    "plt.title(\"Reconstructed delta-function\")\n",
    "\n",
    "# since there is no noise on the data for the delta function, I have chosen an epsilon that\n",
    "# minimizes the difference between the exact data and the estimated data from the model\n",
    "print(f\"d_delta_function - G m_model = {np.linalg.norm(t_delta_func - G @ s_estimate_delta_func)**2} \\n\")\n",
    "\n",
    "print(f\"The value at the location of the delta function in the true model is {delta_function[5,6]:4.4f}.\")\n",
    "print(f\"The value at the location of the delta function in the estimated model is {est_delta_func[5,6]:4.4f}.\")"
   ]
  },
  {
   "cell_type": "markdown",
   "metadata": {},
   "source": [
    "I see that even for a delta-function where there is no noise, the inverse operator is not able to reconstruct the \"true\" model exactly. But luckily, the \"real\" location of the delta-function has the highest value, and the value everywhere else is lower. In fact, the value is close to zero for all coordinates except along the paths of the rays that pass through the delta-function. However, this is expected since the model has no way of knowing where along the path of a single ray that the delta-function would be located. The model only knows if a particular ray at some point has passed through the delta-function due to the arrival-time anomaly that this creates. However, by combining information from multiple rays, the model can estimate where the delta-function is more likely to be located. For example, the delta-function is more likely to be located at a coordinate where two rays both showing arrival-time anomalies cross each other which is also seen above. But the model has no way of knowing for sure that there are no other places along these rays where the \"true\" model is non-zero.\n",
    "\n",
    "Furthermore, the value of the estimated delta-function in the place where the \"true\" delta-function is located is only 0.18 even though the \"true\" delta-function has the value 1 in this coordinate. This is probably due to the model \"smearing out\" the result as described above."
   ]
  },
  {
   "cell_type": "markdown",
   "metadata": {},
   "source": [
    "### Problem 8"
   ]
  },
  {
   "cell_type": "markdown",
   "metadata": {},
   "source": [
    "In the answer to problem 6, I can see that the model is not able to reconstruct the grey box exactly. However, the model does have the highest values for $s$ (yellow squares) in the place where the \"top\" of the box is located. It was expected that the model would be able to reconstruct the \"top\" of the grey box better than the \"bottom\". When looking at Figure 1 in the assignment, it is evident that more rays cross the \"top\" of the grey box than the \"middle\". And actually no rays pass through the right \"bottom\" of the grey box. If no (or only few) rays pass through a region of the grey box, then the model has no way of \"knowing\" that the grey box is there, and hence these parts of the grey box can't be reconstructed.\n",
    "\n",
    "Furthermore, the model also shows significant values of $s$ along the entire path of the rays that pass through the grey box even in places where the \"real\" box is not located (green areas). However, this is also expected, since the model can't know where along the path of a single ray that the grey box is located. It is only when combining information from several rays that the model has a change to compute where the grey box has a higher likelihood of being located as also described for the delta-function in the prevoius problem. For example, the grey box is probably more likely to be where rays showing arrival time anomalies coming from both left and right cross each other which is also seen in the model which has higher values of $s$ here (yellow region).\n",
    "\n",
    "Furthermore, the theoretical value of $s_{box}$ is approximately 0.008 as computed above. But the highest value that the model predicts is 0.004. This is probably due to the fact that the model \"smeares out\" the result both because of the noise in the data and also because the model is not able to tell exactly where along the path of a ray that the box is located as also discussed above."
   ]
  }
 ],
 "metadata": {
  "kernelspec": {
   "display_name": "Python 3",
   "language": "python",
   "name": "python3"
  },
  "language_info": {
   "codemirror_mode": {
    "name": "ipython",
    "version": 3
   },
   "file_extension": ".py",
   "mimetype": "text/x-python",
   "name": "python",
   "nbconvert_exporter": "python",
   "pygments_lexer": "ipython3",
   "version": "3.9.6"
  }
 },
 "nbformat": 4,
 "nbformat_minor": 2
}
